{
 "cells": [
  {
   "cell_type": "markdown",
   "metadata": {},
   "source": [
    "## KNN Model Project\n",
    "using iris dataset, we implente KNN evaluation model."
   ]
  },
  {
   "cell_type": "markdown",
   "metadata": {},
   "source": [
    "### Import libs"
   ]
  },
  {
   "cell_type": "code",
   "execution_count": 540,
   "metadata": {},
   "outputs": [],
   "source": [
    "from sklearn.datasets import load_iris,load_wine\n",
    "from sklearn.model_selection import train_test_split\n",
    "import numpy as np"
   ]
  },
  {
   "cell_type": "markdown",
   "metadata": {},
   "source": [
    "### Load datates"
   ]
  },
  {
   "cell_type": "code",
   "execution_count": 533,
   "metadata": {},
   "outputs": [],
   "source": [
    "dataset = load_iris() # or load_wine()\n",
    "\n",
    "x = dataset.data   # Features\n",
    "y = dataset.target # Target Labels\n",
    "x_train, x_test, y_train, y_test = train_test_split(x, y, test_size=0.2) # 20% test & 80% for train\n"
   ]
  },
  {
   "cell_type": "markdown",
   "metadata": {},
   "source": [
    "### Normalizing data\n",
    "a function that turn array data to number bitween 0 and 1."
   ]
  },
  {
   "cell_type": "code",
   "execution_count": 534,
   "metadata": {},
   "outputs": [],
   "source": [
    "def normalize(array):\n",
    "    min_number = array.min()\n",
    "    max_number = array.max()\n",
    "    normalized_array = (array - min_number) / (max_number - min_number)\n",
    "    return normalized_array\n",
    "\n",
    "# a = np.array([[1, 2, 3, 4,5]])\n",
    "# b = np.array([[0, 5, 4, 7], [5, 3, 1, 5]])\n",
    "\n",
    "# normalize(a)\n",
    "# normalize(b)"
   ]
  },
  {
   "cell_type": "markdown",
   "metadata": {},
   "source": [
    "## Predicting\n"
   ]
  },
  {
   "cell_type": "markdown",
   "metadata": {},
   "source": [
    "### Calculate Distances\n",
    "calculate distances beetween test array data and every train array data"
   ]
  },
  {
   "cell_type": "code",
   "execution_count": 535,
   "metadata": {},
   "outputs": [],
   "source": [
    "def calc_distance(array1, array2):\n",
    "    return np.sqrt(((array1 - array2) ** 2).sum())\n",
    "\n",
    "# a = np.array([2, 3, 4, 5])\n",
    "# b = np.array([6, 4, 7, 2])\n",
    "\n",
    "# calc_distance(a, b)"
   ]
  },
  {
   "cell_type": "markdown",
   "metadata": {},
   "source": [
    "### Nearest Labels & Most Comman Label"
   ]
  },
  {
   "cell_type": "code",
   "execution_count": 536,
   "metadata": {},
   "outputs": [],
   "source": [
    "def nearest_labels(k, distance_list):\n",
    "    nearest_labels = np.argpartition(distance_list, k - 1)[:k]\n",
    "    return nearest_labels\n",
    "\n",
    "\n",
    "\n",
    "# k = 3\n",
    "# distance_list = [0.555, 0.6666, 0.89888, 0.78444]\n",
    "# print(nearest_labels(k, distance_list))\n",
    "\n",
    "\n",
    "def most_comman_label(labels_indexes, y_train):\n",
    "    labels = [y_train[i] for i in labels_indexes]\n",
    "    most_common_label = np.bincount(labels).argmax()\n",
    "    return most_common_label\n",
    "\n",
    "\n",
    "\n",
    "# labels = [1, 3, 2]\n",
    "# print(most_comman_label(labels))"
   ]
  },
  {
   "cell_type": "markdown",
   "metadata": {},
   "source": [
    "### KNN Model Predict\n",
    "predicting labels using knn model."
   ]
  },
  {
   "cell_type": "code",
   "execution_count": 537,
   "metadata": {},
   "outputs": [],
   "source": [
    "def knn_predict(x_train, y_train, x_test, k=1):\n",
    "    y_pred = []\n",
    "    for i in x_test:\n",
    "        distance_list = []\n",
    "        for j in x_train:\n",
    "            distance_list.append(calc_distance(i, j))\n",
    "        \n",
    "        np_dist = np.array(distance_list)\n",
    "        labels_indexes = nearest_labels(k, np_dist)\n",
    "        most_common_label = most_comman_label(labels_indexes, y_train)\n",
    "        y_pred.append(most_common_label)\n",
    "\n",
    "    return y_pred\n",
    "\n",
    "\n",
    "# test_x_train = np.array([[2, 3, 1, 5], [4, 3, 1, 2], [1, 6, 7, 4], [4, 4, 3, 2]])\n",
    "# test_y_train = np.array([1, 2, 3, 1, 1, 2, 3, 3, 2, 1])\n",
    "# x_test = np.array([[4, 3, 2, 1], [5, 4, 3, 1]])\n",
    "# k = 3\n",
    "# y_pred = knn_predict(test_x_train, test_y_train, x_test, k)\n",
    "# y_pred = knn_predict(x_train, y_train, x_test, 3)\n",
    "\n"
   ]
  },
  {
   "cell_type": "markdown",
   "metadata": {},
   "source": [
    "### Accuracy Score"
   ]
  },
  {
   "cell_type": "code",
   "execution_count": 538,
   "metadata": {},
   "outputs": [],
   "source": [
    "def accuracy_score(y_pred):\n",
    "    np_predicts = np.array(y_pred)\n",
    "    acc = (np_predicts == y_test).mean() * 100\n",
    "    return acc"
   ]
  },
  {
   "cell_type": "markdown",
   "metadata": {},
   "source": [
    "### Log the Accuracy score and Labels"
   ]
  },
  {
   "cell_type": "code",
   "execution_count": 539,
   "metadata": {},
   "outputs": [
    {
     "data": {
      "text/plain": [
       "'accuracy: 96%'"
      ]
     },
     "execution_count": 539,
     "metadata": {},
     "output_type": "execute_result"
    }
   ],
   "source": [
    "normalized_x_train = normalize(array=x_train)\n",
    "normalized_x_test = normalize(array=x_test)\n",
    "\n",
    "y_pred = knn_predict(normalized_x_train, y_train, normalized_x_test, 3)\n",
    "accuracy = accuracy_score(y_pred)\n",
    "f\"accuracy: {int(accuracy)}%\""
   ]
  }
 ],
 "metadata": {
  "kernelspec": {
   "display_name": ".venv",
   "language": "python",
   "name": "python3"
  },
  "language_info": {
   "codemirror_mode": {
    "name": "ipython",
    "version": 3
   },
   "file_extension": ".py",
   "mimetype": "text/x-python",
   "name": "python",
   "nbconvert_exporter": "python",
   "pygments_lexer": "ipython3",
   "version": "3.12.3"
  }
 },
 "nbformat": 4,
 "nbformat_minor": 2
}
