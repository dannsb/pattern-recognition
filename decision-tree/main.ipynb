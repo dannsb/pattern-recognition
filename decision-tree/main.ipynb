{
 "cells": [
  {
   "cell_type": "markdown",
   "metadata": {},
   "source": [
    "# Decision Tree"
   ]
  },
  {
   "cell_type": "markdown",
   "metadata": {},
   "source": [
    "### import libs"
   ]
  },
  {
   "cell_type": "code",
   "execution_count": 1267,
   "metadata": {},
   "outputs": [],
   "source": [
    "from sklearn.datasets import load_wine\n",
    "from sklearn.model_selection import train_test_split\n",
    "import numpy as np"
   ]
  },
  {
   "cell_type": "markdown",
   "metadata": {},
   "source": [
    "### load datates"
   ]
  },
  {
   "cell_type": "code",
   "execution_count": 1268,
   "metadata": {},
   "outputs": [],
   "source": [
    "dataset = load_wine()\n",
    "\n",
    "x = dataset.data   \n",
    "y = dataset.target \n",
    "x_train, x_test, y_train, y_test = train_test_split(x, y, test_size=0.2) # 20% test & 80% for train"
   ]
  },
  {
   "cell_type": "markdown",
   "metadata": {},
   "source": [
    "#### Gini Impurity"
   ]
  },
  {
   "cell_type": "markdown",
   "metadata": {},
   "source": [
    "1 - &#8721;<sub>i=1</sub><sup>k</sup> (p<sub>i</sub><sup>2</sup>) \\\n",
    "2 - (3n/N)<sup>2</sup> - (2n/N)<sup>2</sup> - (1n/N)<sup>2</sup> - 1 = Gini"
   ]
  },
  {
   "cell_type": "code",
   "execution_count": 1269,
   "metadata": {},
   "outputs": [],
   "source": [
    "def giniIndex(groups, classes):\n",
    "    instancesCount = len(groups[0]) + len(groups[1])\n",
    "\n",
    "    gini = 0.0\n",
    "    for group in groups:\n",
    "        size = len(group)\n",
    "        score = 0.0\n",
    "        for classVal in classes:\n",
    "            proportion = (group[:, -1] == classVal).sum() / size if size > 0 else 0\n",
    "            score += proportion**2\n",
    "        gini += (1.0 - score) * (size / instancesCount)\n",
    "    return gini"
   ]
  },
  {
   "cell_type": "markdown",
   "metadata": {},
   "source": [
    "### split data base on condition"
   ]
  },
  {
   "cell_type": "code",
   "execution_count": 1270,
   "metadata": {},
   "outputs": [],
   "source": [
    "# split data based on feature column in data set compare to value\n",
    "def splitData(feature, value, dataset):\n",
    "    left = dataset[dataset[:, feature] <= value]\n",
    "    right = dataset[dataset[:, feature] > value]\n",
    "    return left, right"
   ]
  },
  {
   "cell_type": "markdown",
   "metadata": {},
   "source": [
    "### build nodes\n",
    "labels and samples horizontally together \\\n",
    "argsort(): sort array and return indices in unsorted"
   ]
  },
  {
   "cell_type": "code",
   "execution_count": 1271,
   "metadata": {},
   "outputs": [],
   "source": [
    "def buildNodes(x, y):\n",
    "    global root, bestFeatureIndex, conditionValue\n",
    "    dataset = np.hstack(\n",
    "        (x, y.reshape(-1, 1))\n",
    "    ) \n",
    "    classes = np.unique(y)  # in iris : [0 1 2]\n",
    "    bestGini = float(\"inf\")  # infinite number fo compare\n",
    "    for i in range(x.shape[1]):  # shape 1 for every feature do de loop\n",
    "        sortedIndices = x[\n",
    "            :, i\n",
    "        ].argsort()  \n",
    "        sortedFeature = x[sortedIndices, i]\n",
    "        pairMeans = (\n",
    "            (sortedFeature[:-1] + sortedFeature[1:])\n",
    "            / 2  # remove first and last index, and calc mean\n",
    "            if len(sortedFeature) > 1\n",
    "            else [sortedFeature[0]]\n",
    "        )\n",
    "\n",
    "        for value in pairMeans:\n",
    "            left, right = splitData(i, value, dataset) # return more and less of pair mean\n",
    "            gini = giniIndex([left, right], classes)\n",
    "            if gini < bestGini:\n",
    "                bestGini = gini\n",
    "                bestFeatureIndex = i\n",
    "                conditionValue = value\n",
    "\n",
    "    root = bestGini"
   ]
  },
  {
   "cell_type": "markdown",
   "metadata": {},
   "source": [
    "### build tree\n",
    "build tree is a recursive function. \\\n",
    "it's base condition is based on depth and class to be uniq (purity)"
   ]
  },
  {
   "cell_type": "code",
   "execution_count": 1272,
   "metadata": {},
   "outputs": [],
   "source": [
    "def buildTree(x_train, y_train, depth=0, maxDepth=10):\n",
    "    if (\n",
    "        depth >= maxDepth or len(np.unique(y_train)) == 1\n",
    "    ):\n",
    "        return {\"leaf\": True, \"value\": np.bincount(y_train).argmax()}\n",
    "\n",
    "    buildNodes(x_train, y_train)\n",
    "\n",
    "    leftIndices = x_train[:, bestFeatureIndex] <= conditionValue\n",
    "    rightIndices = x_train[:, bestFeatureIndex] > conditionValue\n",
    "\n",
    "    leftSubtree = buildTree(x_train[leftIndices], y_train[leftIndices], depth + 1)\n",
    "    rightSubtree = buildTree(x_train[rightIndices], y_train[rightIndices], depth + 1)\n",
    "\n",
    "    return {\n",
    "        \"leaf\": False,\n",
    "        \"feature\": bestFeatureIndex,\n",
    "        \"value\": conditionValue,\n",
    "        \"left\": leftSubtree,\n",
    "        \"right\": rightSubtree,\n",
    "    }\n",
    "\n",
    "\n",
    "tree = buildTree(x_train, y_train)"
   ]
  },
  {
   "cell_type": "markdown",
   "metadata": {},
   "source": [
    "### Predict \n",
    "Predict is a recursive function. \\\n",
    "it's base condition is based on if tree get to the left"
   ]
  },
  {
   "cell_type": "code",
   "execution_count": 1273,
   "metadata": {},
   "outputs": [],
   "source": [
    "def predict(sample, tree):\n",
    "    if tree[\"leaf\"]:\n",
    "        return tree[\"value\"]\n",
    "    if sample[tree[\"feature\"]] <= tree[\"value\"]:\n",
    "        return predict(sample, tree[\"left\"])\n",
    "    else:\n",
    "        return predict(sample, tree[\"right\"])\n",
    "\n",
    "\n",
    "def predictBatch(x_test, tree):\n",
    "    predictions = []\n",
    "    for sample in x_test:\n",
    "        predictions.append(predict(sample, tree))\n",
    "    return np.array(predictions)"
   ]
  },
  {
   "cell_type": "markdown",
   "metadata": {},
   "source": [
    "### result"
   ]
  },
  {
   "cell_type": "code",
   "execution_count": 1274,
   "metadata": {},
   "outputs": [
    {
     "name": "stdout",
     "output_type": "stream",
     "text": [
      "Accuracy: 77.78%\n"
     ]
    }
   ],
   "source": [
    "from sklearn.metrics import  accuracy_score\n",
    "\n",
    "predictions = predictBatch(x_test, tree)\n",
    "accuracy = accuracy_score(y_test, predictions)\n",
    "\n",
    "print(f\"Accuracy: {accuracy*100:.2f}%\")"
   ]
  }
 ],
 "metadata": {
  "kernelspec": {
   "display_name": ".venv",
   "language": "python",
   "name": "python3"
  },
  "language_info": {
   "codemirror_mode": {
    "name": "ipython",
    "version": 3
   },
   "file_extension": ".py",
   "mimetype": "text/x-python",
   "name": "python",
   "nbconvert_exporter": "python",
   "pygments_lexer": "ipython3",
   "version": "3.12.3"
  }
 },
 "nbformat": 4,
 "nbformat_minor": 2
}
