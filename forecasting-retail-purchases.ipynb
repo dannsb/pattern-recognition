{
  "nbformat": 4,
  "nbformat_minor": 0,
  "metadata": {
    "colab": {
      "provenance": [],
      "mount_file_id": "1zFZytUz0YyEafT7jK7hst-KKyV3CCUT8",
      "authorship_tag": "ABX9TyPW74Hoc2x95fhQbzl8YrGK",
      "include_colab_link": true
    },
    "kernelspec": {
      "name": "python3",
      "display_name": "Python 3"
    },
    "language_info": {
      "name": "python"
    }
  },
  "cells": [
    {
      "cell_type": "markdown",
      "metadata": {
        "id": "view-in-github",
        "colab_type": "text"
      },
      "source": [
        "<a href=\"https://colab.research.google.com/github/dannsb/pattern-recognition/blob/main/forecasting-retail-purchases.ipynb\" target=\"_parent\"><img src=\"https://colab.research.google.com/assets/colab-badge.svg\" alt=\"Open In Colab\"/></a>"
      ]
    },
    {
      "cell_type": "code",
      "source": [
        "!pip install catboost"
      ],
      "metadata": {
        "colab": {
          "base_uri": "https://localhost:8080/"
        },
        "id": "NVvTXsV2iZMm",
        "outputId": "52520a48-faf1-4310-c923-c66204204c18"
      },
      "execution_count": null,
      "outputs": [
        {
          "output_type": "stream",
          "name": "stdout",
          "text": [
            "Requirement already satisfied: catboost in /usr/local/lib/python3.10/dist-packages (1.2.7)\n",
            "Requirement already satisfied: graphviz in /usr/local/lib/python3.10/dist-packages (from catboost) (0.20.3)\n",
            "Requirement already satisfied: matplotlib in /usr/local/lib/python3.10/dist-packages (from catboost) (3.8.0)\n",
            "Requirement already satisfied: numpy<2.0,>=1.16.0 in /usr/local/lib/python3.10/dist-packages (from catboost) (1.26.4)\n",
            "Requirement already satisfied: pandas>=0.24 in /usr/local/lib/python3.10/dist-packages (from catboost) (2.2.2)\n",
            "Requirement already satisfied: scipy in /usr/local/lib/python3.10/dist-packages (from catboost) (1.13.1)\n",
            "Requirement already satisfied: plotly in /usr/local/lib/python3.10/dist-packages (from catboost) (5.24.1)\n",
            "Requirement already satisfied: six in /usr/local/lib/python3.10/dist-packages (from catboost) (1.17.0)\n",
            "Requirement already satisfied: python-dateutil>=2.8.2 in /usr/local/lib/python3.10/dist-packages (from pandas>=0.24->catboost) (2.8.2)\n",
            "Requirement already satisfied: pytz>=2020.1 in /usr/local/lib/python3.10/dist-packages (from pandas>=0.24->catboost) (2024.2)\n",
            "Requirement already satisfied: tzdata>=2022.7 in /usr/local/lib/python3.10/dist-packages (from pandas>=0.24->catboost) (2024.2)\n",
            "Requirement already satisfied: contourpy>=1.0.1 in /usr/local/lib/python3.10/dist-packages (from matplotlib->catboost) (1.3.1)\n",
            "Requirement already satisfied: cycler>=0.10 in /usr/local/lib/python3.10/dist-packages (from matplotlib->catboost) (0.12.1)\n",
            "Requirement already satisfied: fonttools>=4.22.0 in /usr/local/lib/python3.10/dist-packages (from matplotlib->catboost) (4.55.3)\n",
            "Requirement already satisfied: kiwisolver>=1.0.1 in /usr/local/lib/python3.10/dist-packages (from matplotlib->catboost) (1.4.7)\n",
            "Requirement already satisfied: packaging>=20.0 in /usr/local/lib/python3.10/dist-packages (from matplotlib->catboost) (24.2)\n",
            "Requirement already satisfied: pillow>=6.2.0 in /usr/local/lib/python3.10/dist-packages (from matplotlib->catboost) (11.0.0)\n",
            "Requirement already satisfied: pyparsing>=2.3.1 in /usr/local/lib/python3.10/dist-packages (from matplotlib->catboost) (3.2.0)\n",
            "Requirement already satisfied: tenacity>=6.2.0 in /usr/local/lib/python3.10/dist-packages (from plotly->catboost) (9.0.0)\n"
          ]
        }
      ]
    },
    {
      "cell_type": "code",
      "source": [
        "!pip install scikit-learn==1.5.2"
      ],
      "metadata": {
        "colab": {
          "base_uri": "https://localhost:8080/"
        },
        "id": "QjsYmloUElFv",
        "outputId": "0a79525f-dc73-4f84-a671-d518e5100cf0"
      },
      "execution_count": null,
      "outputs": [
        {
          "output_type": "stream",
          "name": "stdout",
          "text": [
            "Requirement already satisfied: scikit-learn==1.5.2 in /usr/local/lib/python3.10/dist-packages (1.5.2)\n",
            "Requirement already satisfied: numpy>=1.19.5 in /usr/local/lib/python3.10/dist-packages (from scikit-learn==1.5.2) (1.26.4)\n",
            "Requirement already satisfied: scipy>=1.6.0 in /usr/local/lib/python3.10/dist-packages (from scikit-learn==1.5.2) (1.13.1)\n",
            "Requirement already satisfied: joblib>=1.2.0 in /usr/local/lib/python3.10/dist-packages (from scikit-learn==1.5.2) (1.4.2)\n",
            "Requirement already satisfied: threadpoolctl>=3.1.0 in /usr/local/lib/python3.10/dist-packages (from scikit-learn==1.5.2) (3.5.0)\n"
          ]
        }
      ]
    },
    {
      "cell_type": "markdown",
      "source": [
        "### Imports libs & load data"
      ],
      "metadata": {
        "id": "EmcS2TRjQoqJ"
      }
    },
    {
      "cell_type": "code",
      "execution_count": null,
      "metadata": {
        "id": "RBVsjsuXtveV"
      },
      "outputs": [],
      "source": [
        "import numpy as np\n",
        "import pandas as pd\n",
        "from sklearn.model_selection import train_test_split, RandomizedSearchCV\n",
        "from sklearn.metrics import f1_score\n",
        "from sklearn.ensemble import StackingClassifier\n",
        "from xgboost import XGBClassifier\n",
        "from lightgbm import LGBMClassifier\n",
        "from sklearn.ensemble import RandomForestClassifier\n",
        "from catboost import CatBoostClassifier"
      ]
    },
    {
      "cell_type": "code",
      "source": [
        "def load_data(train_path, test_path):\n",
        "    train = pd.read_csv(train_path)\n",
        "    test = pd.read_csv(test_path)\n",
        "    train['time'] = pd.to_datetime(train['time'])\n",
        "    test['time'] = pd.to_datetime(test['time'])\n",
        "    return train, test"
      ],
      "metadata": {
        "id": "Ck_cgDNNuBo_"
      },
      "execution_count": null,
      "outputs": []
    },
    {
      "cell_type": "markdown",
      "source": [
        "### Feature extraction"
      ],
      "metadata": {
        "id": "FXhodEy1QvJo"
      }
    },
    {
      "cell_type": "code",
      "source": [
        "def feature_engineering(data):\n",
        "    data['day_of_week'] = data['time'].dt.dayofweek\n",
        "    data['month'] = data['time'].dt.month\n",
        "    data['day'] = data['time'].dt.day\n",
        "    data['is_weekend'] = data['day_of_week'].isin([5, 6]).astype(int)\n",
        "    data['is_first_half_month'] = (data['day'] <= 15).astype(int)\n",
        "    data['days_since_last_purchase'] = data.groupby('user')['time'].diff().dt.days.fillna(-1)\n",
        "\n",
        "    return data"
      ],
      "metadata": {
        "id": "XDYHiHacltL9"
      },
      "execution_count": null,
      "outputs": []
    },
    {
      "cell_type": "markdown",
      "source": [
        "### Define modesl"
      ],
      "metadata": {
        "id": "XK-I7vc7QzEo"
      }
    },
    {
      "cell_type": "code",
      "execution_count": null,
      "metadata": {
        "id": "XqBEhzybHDK5"
      },
      "outputs": [],
      "source": [
        "def define_models():\n",
        "    xgb_params = {\n",
        "        'n_estimators': [100, 500],\n",
        "        'max_depth': [6, 12],\n",
        "        'learning_rate': [0.01, 0.1],\n",
        "        'subsample': [0.6, 0.8]\n",
        "    }\n",
        "\n",
        "    rf_params = {\n",
        "        'n_estimators': [100, 200],\n",
        "        'max_depth': [6, 10]\n",
        "    }\n",
        "\n",
        "    catboost_params = {\n",
        "        'iterations': [500, 1000],\n",
        "        'depth': [6, 10],\n",
        "        'learning_rate': [0.01, 0.1]\n",
        "    }\n",
        "\n",
        "\n",
        "    xgb = RandomizedSearchCV(\n",
        "        XGBClassifier(random_state=42, eval_metric='logloss'),\n",
        "        xgb_params, n_iter=4, cv=3, n_jobs=-1\n",
        "    )\n",
        "\n",
        "    rf = RandomizedSearchCV(\n",
        "        RandomForestClassifier(random_state=42),\n",
        "        rf_params, n_iter=4, cv=3, n_jobs=-1\n",
        "    )\n",
        "\n",
        "    catboost = RandomizedSearchCV(\n",
        "        CatBoostClassifier(random_state=42, verbose=0),\n",
        "        catboost_params, n_iter=4, cv=3, n_jobs=-1\n",
        "    )\n",
        "\n",
        "\n",
        "    return [('XGB', xgb), ('RF', rf), ('CatBoost', catboost) ]"
      ]
    },
    {
      "cell_type": "markdown",
      "source": [
        "### define train and evaluate function"
      ],
      "metadata": {
        "id": "lUI8KaaEQ7gX"
      }
    },
    {
      "cell_type": "code",
      "source": [
        "def train_and_evaluate(train, test, user_ids):\n",
        "    scores = []\n",
        "    results = []\n",
        "\n",
        "    for user in user_ids:\n",
        "        user_data = train[train['user'] == user]\n",
        "        user_data = user_data[user_data['bought'].cumsum() > 0]\n",
        "\n",
        "\n",
        "        X = user_data.drop(columns=['bought', 'user', 'time'], axis=1)\n",
        "        y = user_data['bought']\n",
        "\n",
        "        X_train, X_val, y_train, y_val = train_test_split(X, y, test_size=0.2, random_state=42)\n",
        "\n",
        "        estimators = define_models()\n",
        "        final_model = StackingClassifier(estimators=estimators, final_estimator=XGBClassifier(random_state=42))\n",
        "        final_model.fit(X_train, y_train)\n",
        "\n",
        "        y_pred = final_model.predict(X_val)\n",
        "        score = f1_score(y_val, y_pred)\n",
        "        scores.append(score)\n",
        "\n",
        "        print(f\"User {user} - F1 Score: {score:.4f}\")\n",
        "\n",
        "        user_test = test[test['user'] == user]\n",
        "        if not user_test.empty:\n",
        "            X_test = user_test.drop(columns=['user', 'time'])\n",
        "\n",
        "            predictions = final_model.predict(X_test)\n",
        "\n",
        "            for idx, pred in enumerate(predictions):\n",
        "                results.append({'ID': f\"{user}_{user_test.iloc[idx]['time'].date()}\", 'bought': pred})\n",
        "\n",
        "    print(f\"Average F1 Score: {np.mean(scores):.4f}\")\n",
        "    return results"
      ],
      "metadata": {
        "id": "aJmN0N_RnZ0S"
      },
      "execution_count": null,
      "outputs": []
    },
    {
      "cell_type": "markdown",
      "source": [
        "### report and save submission"
      ],
      "metadata": {
        "id": "HzEYALVVRBHm"
      }
    },
    {
      "cell_type": "code",
      "source": [
        "\n",
        "train_path = './train.csv'\n",
        "test_path = './test.csv'\n",
        "\n",
        "train, test = load_data(train_path, test_path)\n",
        "train = feature_engineering(train)\n",
        "test = feature_engineering(test)\n",
        "\n",
        "train_users = train['user'].unique()\n",
        "test_users = test['user'].unique()\n",
        "\n",
        "submission = train_and_evaluate(train, test, train_users)\n",
        "\n",
        "submission_df = pd.DataFrame(submission).drop_duplicates(subset=['ID'], keep='first')\n",
        "submission_df.to_csv('submission.csv', index=False)\n"
      ],
      "metadata": {
        "id": "2YQZ7fWGTrnd",
        "outputId": "3172980e-8a85-4452-e709-909000a6efa6",
        "colab": {
          "base_uri": "https://localhost:8080/"
        }
      },
      "execution_count": null,
      "outputs": [
        {
          "output_type": "stream",
          "name": "stdout",
          "text": [
            "User 0 - F1 Score: 1.0000\n",
            "User 1 - F1 Score: 0.3571\n",
            "User 2 - F1 Score: 0.6471\n",
            "User 3 - F1 Score: 0.0000\n",
            "User 4 - F1 Score: 1.0000\n",
            "User 5 - F1 Score: 0.7692\n",
            "User 6 - F1 Score: 0.0000\n",
            "User 7 - F1 Score: 0.0000\n"
          ]
        },
        {
          "output_type": "stream",
          "name": "stderr",
          "text": [
            "/usr/local/lib/python3.10/dist-packages/sklearn/metrics/_classification.py:1531: UndefinedMetricWarning: F-score is ill-defined and being set to 0.0 due to no true nor predicted samples. Use `zero_division` parameter to control this behavior.\n",
            "  _warn_prf(average, modifier, f\"{metric.capitalize()} is\", len(result))\n"
          ]
        },
        {
          "output_type": "stream",
          "name": "stdout",
          "text": [
            "User 8 - F1 Score: 0.0000\n",
            "User 9 - F1 Score: 0.8852\n",
            "User 10 - F1 Score: 0.0000\n",
            "User 11 - F1 Score: 0.0000\n",
            "User 12 - F1 Score: 0.6154\n",
            "User 13 - F1 Score: 0.3750\n",
            "User 14 - F1 Score: 0.6667\n",
            "User 15 - F1 Score: 0.0000\n",
            "User 16 - F1 Score: 0.8000\n",
            "User 17 - F1 Score: 0.1818\n",
            "User 18 - F1 Score: 0.5000\n",
            "User 19 - F1 Score: 0.4444\n",
            "User 20 - F1 Score: 0.1600\n",
            "User 21 - F1 Score: 0.0000\n",
            "User 22 - F1 Score: 0.0000\n",
            "User 23 - F1 Score: 0.8276\n",
            "User 24 - F1 Score: 0.9333\n",
            "User 25 - F1 Score: 0.6875\n",
            "User 26 - F1 Score: 0.0000\n",
            "User 27 - F1 Score: 0.0000\n",
            "User 28 - F1 Score: 0.7727\n",
            "User 29 - F1 Score: 0.0000\n",
            "User 30 - F1 Score: 0.0000\n",
            "User 31 - F1 Score: 0.4167\n",
            "User 32 - F1 Score: 0.0000\n",
            "Average F1 Score: 0.3648\n"
          ]
        }
      ]
    }
  ]
}